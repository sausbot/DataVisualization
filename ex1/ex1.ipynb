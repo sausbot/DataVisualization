{
 "cells": [
  {
   "cell_type": "code",
   "execution_count": 1,
   "id": "d04d6f2e",
   "metadata": {},
   "outputs": [
    {
     "data": {
      "text/plain": [
       "'\\\\\\\\wsl$\\\\Ubuntu\\\\home\\\\sausbot\\\\src\\\\dataVisualization\\\\ex1\\\\dvc_ex1.html'"
      ]
     },
     "execution_count": 1,
     "metadata": {},
     "output_type": "execute_result"
    }
   ],
   "source": [
    "#!/usr/bin/env python\n",
    "# coding: utf-8\n",
    "\n",
    "\n",
    "# Import necessary libraries\n",
    "import pandas as pd\n",
    "from bokeh.io import output_file, show, save\n",
    "from bokeh.plotting import figure\n",
    "from bokeh.models import ColumnDataSource, HoverTool,FactorRange\n",
    "import bokeh.palettes as bp\n",
    "\n",
    "from IPython.display import display, HTML\n",
    "\n",
    "# Task 1: Data Pre-processing\n",
    "# Read data into a dataframe using pandas\n",
    "df = pd.read_csv('data.csv')\n",
    "\n",
    "# Convert \"pickup_datetime\" attribute in the dataframe to datetime type for further processing\n",
    "df['pickup_datetime'] = pd.to_datetime(df['pickup_datetime'], yearfirst=True)\n",
    "\n",
    "# Split datetime object to months and hours, and change month to month name\n",
    "df['pickup_datetime_month'] = df['pickup_datetime'].dt.month_name()\n",
    "df['pickup_datetime_hour'] = df['pickup_datetime'].dt.hour\n",
    "\n",
    "# Use months as stack names\n",
    "stacks = [\"January\", \"February\", \"March\", \"April\", \"May\", \"June\"]\n",
    "\n",
    "# Calculate the total number of trips for each month grouped by hour\n",
    "month_stack_values = [ df.groupby(['pickup_datetime_month']).get_group(month).groupby(['pickup_datetime_hour']).size() for month in stacks ]\n",
    "\n",
    "# Create dict with month name as key and stack values as members\n",
    "data = dict(zip(stacks, month_stack_values))\n",
    "\n",
    "# Manipulate \"pickup_datetime_hour\" attribute for visualization purposes.\n",
    "# Extract unique values for pickup_datetime_hour and create the time intervals(0 -> 0-1 , 23 -> 23-0 and so on) using string manipulation.\n",
    "hours = df['pickup_datetime_hour'].unique().tolist()\n",
    "hours.sort()\n",
    "hours_str = [ f\"{hour}-{hour+1}\" if hour < 23 else f\"{hour}-0\" for hour in hours ]\n",
    "data[\"Hours\"] = hours_str\n",
    "\n",
    "# Task 2: Data Visualization\n",
    "# Using the information gathered from the data pre-processing step create the ColumnDataSource for visualization.\n",
    "source = ColumnDataSource(data)\n",
    "\n",
    "# Visualize the data using bokeh plot functions\n",
    "p=figure(x_range=FactorRange(*hours_str), plot_height=800, plot_width=800, title='Number of trips in NYC')\n",
    "p.yaxis.axis_label = \"Number of Trips\"\n",
    "p.xaxis.axis_label = \"Hours\"\n",
    "p.sizing_mode = \"stretch_both\"\n",
    "p.xgrid.grid_line_color = None\n",
    "colors = bp.Viridis[6]\n",
    "\n",
    "# Using vbar_stack to plot the stacked bar chart\n",
    "p.vbar_stack(stacks, x='Hours', source=source, fill_color=colors, legend_label=stacks, width=0.8)\n",
    "\n",
    "# Add HoverTool. HoverTool should show the name of the month, the hours and the number of trips when the mouse hover on each bar.\n",
    "hover = HoverTool(tooltips = [\n",
    "    ('Month', '$name'),\n",
    "    ('Hour', '@Hours'),\n",
    "    ('Number of Trips', '@$name'),           \n",
    "    ])\n",
    "p.add_tools(hover)\n",
    "show(p)\n",
    "\n",
    "# Save the plot as \"dvc_ex1.html\" using output_file\n",
    "output_file(filename=\"dvc_ex1.html\", title=\"Number of Trips Grouped by Month\")\n",
    "save(p)\n"
   ]
  },
  {
   "cell_type": "markdown",
   "metadata": {},
   "source": []
  },
  {
   "cell_type": "code",
   "execution_count": null,
   "id": "ca9b67b7",
   "metadata": {},
   "outputs": [],
   "source": []
  },
  {
   "cell_type": "code",
   "execution_count": null,
   "id": "ecad0ab5",
   "metadata": {},
   "outputs": [],
   "source": []
  }
 ],
 "metadata": {
  "kernelspec": {
   "display_name": "Python 3 (ipykernel)",
   "language": "python",
   "name": "python3"
  },
  "language_info": {
   "codemirror_mode": {
    "name": "ipython",
    "version": 3
   },
   "file_extension": ".py",
   "mimetype": "text/x-python",
   "name": "python",
   "nbconvert_exporter": "python",
   "pygments_lexer": "ipython3",
   "version": "3.7.0"
  }
 },
 "nbformat": 4,
 "nbformat_minor": 5
}
